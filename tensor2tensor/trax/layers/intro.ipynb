{
  "cells": [
    {
      "cell_type": "markdown",
      "metadata": {
        "colab_type": "text",
        "id": "7yuytuIllsv1"
      },
      "source": [
        "# A Conceptual, Practical Introduction to Trax Layers\n",
        "\n",
        "This notebook introduces the core concepts and programming components of the Trax library through a series of code samples and explanations. The topics covered in following sections are:\n",
        "  - **layers**: the basic building blocks and how to combine them into networks\n",
        "  - **data flows**, data stack: how the Trax runtime moves data through the layers\n",
        "  - **models**: how to train, evaluate, and run predictions with Trax models\n",
        "  - **new layer classes**: how to define and test your own Layer classes\n",
        "\n",
      ]
    },
    {
      "cell_type": "markdown",
      "metadata": {
        "colab_type": "text",
        "id": "BIl27504La0G"
      },
      "source": [
        "## General Setup\n",
        "Execute the following few cells (once) before running any of the code samples in this notebook."
      ]
    },
    {
      "cell_type": "code",
      "execution_count": 0,
      "metadata": {
        "colab": {},
        "colab_type": "code",
        "id": "oILRLCWN_16u"
      },
      "outputs": [],
      "source": [
        "#@title\n",
        "# Copyright 2018 Google LLC.\n",
        "\n",
        "# Licensed under the Apache License, Version 2.0 (the \"License\");\n",
        "# you may not use this file except in compliance with the License.\n",
        "# You may obtain a copy of the License at\n",
        "\n",
        "# https://www.apache.org/licenses/LICENSE-2.0\n",
        "\n",
        "# Unless required by applicable law or agreed to in writing, software\n",
        "# distributed under the License is distributed on an \"AS IS\" BASIS,\n",
        "# WITHOUT WARRANTIES OR CONDITIONS OF ANY KIND, either express or implied.\n",
        "# See the License for the specific language governing permissions and\n",
        "# limitations under the License.\n",
        "\n",
        "import numpy as onp\n",
        "\n",
        "\n",
        "\n",
        "# Import Trax\n",
      ]
    },
    {
      "cell_type": "code",
      "execution_count": 2,
      "metadata": {
        "cellView": "both",
        "colab": {
          "height": 51
        },
        "colab_type": "code",
        "executionInfo": {
          "elapsed": 267,
          "status": "ok",
          "timestamp": 1569980014037,
          "user": {
            "displayName": "Jonni Kanerva",
            "photoUrl": "https://lh3.googleusercontent.com/a-/AAuE7mAWyI3hqIhQiLmO-Yzb2o-qkz0xCUECEG0fptCO=s64",
            "userId": "12646438700820120918"
          },
          "user_tz": 420
        },
        "id": "vlGjGoGMTt-D",
        "outputId": "97840e48-52ee-4ae1-87f1-83c1b0251055"
      },
      "outputs": [
        {
          "name": "stdout",
          "output_type": "stream",
          "text": [
            "/bin/sh: pip: command not found\n",
            "/bin/sh: pip: command not found\n"
          ]
        }
      ],
      "source": [
        "#@title Run for installation.\n",
        "\n",
        "! pip install -q -U tensor2tensor\n",
        "! pip install -q tensorflow\n",
        "\n",
        "from tensor2tensor.trax import backend\n",
        "from tensor2tensor.trax import layers as tl"
      ]
    },
    {
      "cell_type": "code",
      "execution_count": 0,
      "metadata": {
        "colab": {},
        "colab_type": "code",
        "id": "bYWNWL9MJHv9"
      },
      "outputs": [],
      "source": [
        "onp.set_printoptions(precision=3)  # Less visual noise in the numerical outputs."
      ]
    },
    {
      "cell_type": "markdown",
      "metadata": {
        "colab_type": "text",
        "id": "-LQ89rFFsEdk"
      },
      "source": [
        "# Layers\n",
        "\n",
        "The Layer class represents Trax's concept of a layer, as summarized in the start of the class's docstring:\n",
        "```\n",
        "class Layer(object):\n",
        "  \"\"\"Base class for composable layers in a deep learning network.\n",
        "\n",
        "  Layers are the basic building blocks for deep learning models. A Trax layer\n",
        "  computes a function from zero or more inputs to zero or more outputs,\n",
        "  optionally using trainable parameters (common) and non-parameter state (not\n",
        "  common). Authors of new layer subclasses typically override at most two\n",
        "  methods of the base `Layer` class:\n",
        "\n",
        "    forward(inputs, params=(), state=(), **kwargs):\n",
        "      Computes this layer's output as part of a forward pass through the model.\n",
        "\n",
        "    new_params_and_state(self, input_shape, input_dtype, rng):\n",
        "      Returns a (params, state) pair suitable for initializing this layer.\n",
        "```"
      ]
    },
    {
      "cell_type": "markdown",
      "metadata": {
        "colab_type": "text",
        "id": "LyLVtdxorDPO"
      },
      "source": [
        "## A layer computes a function."
      ]
    },
    {
      "cell_type": "markdown",
      "metadata": {
        "colab_type": "text",
        "id": "ntZ4_eNQldzL"
      },
      "source": [
        "A layer computes a function from zero or more inputs to zero or more outputs. The inputs and outputs are NumPy arrays or JAX objects wrapping NumPy arrays.\n",
        "\n",
        "The simplest layers, those with no parameters or state, can be used without initialization. You can think of them (and test them) like simple mathematical functions. For ease of testing and interactive exploration, layer\n",
        "objects implement the `__call__ ` method, so you can call them directly on input data:\n",
        "\n",
        "```\n",
        "y = layer(x)\n",
        "```\n",
        "\n",
        "\n",
        "### Example 1. tl.Relu [1 input, 1 output]"
      ]
    },
    {
      "cell_type": "code",
      "execution_count": 4,
      "metadata": {
        "colab": {
          "height": 204
        },
        "colab_type": "code",
        "executionInfo": {
          "elapsed": 1224,
          "status": "ok",
          "timestamp": 1569980015601,
          "user": {
            "displayName": "Jonni Kanerva",
            "photoUrl": "https://lh3.googleusercontent.com/a-/AAuE7mAWyI3hqIhQiLmO-Yzb2o-qkz0xCUECEG0fptCO=s64",
            "userId": "12646438700820120918"
          },
          "user_tz": 420
        },
        "id": "V09viOSEQvQe",
        "outputId": "b5f206b9-29ad-42b1-cd64-2a52cac4911e"
      },
      "outputs": [
        {
          "name": "stdout",
          "output_type": "stream",
          "text": [
            "type(x): \u003ctype 'numpy.ndarray'\u003e\n",
            "\n",
            "x:\n",
            "[[-7. -6. -5. -4. -3.]\n",
            " [-2. -1.  0.  1.  2.]\n",
            " [ 3.  4.  5.  6.  7.]]\n",
            "\n",
            "relu(x):\n",
            "[[0. 0. 0. 0. 0.]\n",
            " [0. 0. 0. 1. 2.]\n",
            " [3. 4. 5. 6. 7.]]\n"
          ]
        }
      ],
      "source": [
        "x = onp.arange(-7, 8).reshape(3, -1).astype(onp.float32)\n",
        "\n",
        "# Create a layer object (a Relu instance) and apply the layer to data x.\n",
        "relu = tl.Relu()\n",
        "y = relu(x)\n",
        "\n",
        "# Show the inputs and outputs.\n",
        "template = ('type(x): {}\\n\\n'\n",
        "            'x:\\n{}\\n\\n'\n",
        "            'relu(x):\\n{}')\n",
        "print(template.format(type(x), x, y))"
      ]
    },
    {
      "cell_type": "markdown",
      "metadata": {
        "colab_type": "text",
        "id": "7sYxIT8crFVE"
      },
      "source": [
        "### Example 2. tl.Concatenate [2 inputs, 1 output]"
      ]
    },
    {
      "cell_type": "code",
      "execution_count": 5,
      "metadata": {
        "colab": {
          "height": 391
        },
        "colab_type": "code",
        "executionInfo": {
          "elapsed": 1251,
          "status": "ok",
          "timestamp": 1569980016872,
          "user": {
            "displayName": "Jonni Kanerva",
            "photoUrl": "https://lh3.googleusercontent.com/a-/AAuE7mAWyI3hqIhQiLmO-Yzb2o-qkz0xCUECEG0fptCO=s64",
            "userId": "12646438700820120918"
          },
          "user_tz": 420
        },
        "id": "LMPPNWXLoOZI",
        "outputId": "310d6c78-7dfc-48c5-a5e9-0f0b09abb2bc"
      },
      "outputs": [
        {
          "name": "stdout",
          "output_type": "stream",
          "text": [
            "x1:\n",
            "[[-7. -6. -5. -4. -3.]\n",
            " [-2. -1.  0.  1.  2.]\n",
            " [ 3.  4.  5.  6.  7.]]\n",
            "\n",
            "x2:\n",
            "[[-70. -60. -50. -40. -30.]\n",
            " [-20. -10.   0.  10.  20.]\n",
            " [ 30.  40.  50.  60.  70.]]\n",
            "\n",
            "concatenate_0([x1, x2]):\n",
            "[[ -7.  -6.  -5.  -4.  -3.]\n",
            " [ -2.  -1.   0.   1.   2.]\n",
            " [  3.   4.   5.   6.   7.]\n",
            " [-70. -60. -50. -40. -30.]\n",
            " [-20. -10.   0.  10.  20.]\n",
            " [ 30.  40.  50.  60.  70.]]\n",
            "\n",
            "concatenate_1([x1, x2]):\n",
            "[[ -7.  -6.  -5.  -4.  -3. -70. -60. -50. -40. -30.]\n",
            " [ -2.  -1.   0.   1.   2. -20. -10.   0.  10.  20.]\n",
            " [  3.   4.   5.   6.   7.  30.  40.  50.  60.  70.]]\n"
          ]
        }
      ],
      "source": [
        "x1 = onp.arange(-7, 8).reshape(3, -1).astype(onp.float32)\n",
        "x2 = x1 * 10\n",
        "\n",
        "concatenate_0 = tl.Concatenate(axis=0)\n",
        "y = concatenate_0([x1, x2])\n",
        "\n",
        "template = ('x1:\\n{}\\n\\n'\n",
        "            'x2:\\n{}\\n\\n'\n",
        "            'concatenate_0([x1, x2]):\\n{}')\n",
        "print(template.format(x1, x2, y))\n",
        "\n",
        "concatenate_1 = tl.Concatenate(axis=1)\n",
        "y = concatenate_1([x1, x2])\n",
        "\n",
        "template = ('\\nconcatenate_1([x1, x2]):\\n{}')\n",
        "print(template.format(y))\n"
      ]
    },
    {
      "cell_type": "markdown",
      "metadata": {
        "colab_type": "text",
        "id": "1oZv3R8bRMvF"
      },
      "source": [
        "## Layers are trainable."
      ]
    },
    {
      "cell_type": "markdown",
      "metadata": {
        "colab_type": "text",
        "id": "3d64M7wLryji"
      },
      "source": [
        "Most layer types are trainable: they include parameters that modify the computation of outputs from inputs, and they use back-progagated gradients to update those parameters.\n",
        "\n",
        "Before use, trainable layers must have their parameters initialized, typically using a PRNG (pseudo-random number generator) key for random number generation. Trax's model trainers take care of this behind the scenes, but if you are using a layer in insolation, you have to do the initialization yourself. For this, use the `initialize_once` method:\n",
        "\n",
        "```\n",
        "  def initialize_once(self, input_shapes, input_dtype, rng):\n",
        "    \"\"\"Initializes this layer and its sublayers recursively.\n",
        "\n",
        "    This method is designed to initialize each layer instance once, even if the\n",
        "    same layer instance occurs in multiple places in the network. This enables\n",
        "    weight sharing to be implemented as layer sharing.\n",
        "\n",
        "    ...\n",
        "```\n",
        "\n",
        "**Example 2.** tl.LayerNorm [1 input, 1 output, has parameters]"
      ]
    },
    {
      "cell_type": "code",
      "execution_count": 6,
      "metadata": {
        "colab": {
          "height": 221
        },
        "colab_type": "code",
        "executionInfo": {
          "elapsed": 2200,
          "status": "ok",
          "timestamp": 1569980019093,
          "user": {
            "displayName": "Jonni Kanerva",
            "photoUrl": "https://lh3.googleusercontent.com/a-/AAuE7mAWyI3hqIhQiLmO-Yzb2o-qkz0xCUECEG0fptCO=s64",
            "userId": "12646438700820120918"
          },
          "user_tz": 420
        },
        "id": "Ie7iyX91qAx2",
        "outputId": "b89ecf84-456f-4507-a6d3-a3e36f629ecb"
      },
      "outputs": [
        {
          "name": "stdout",
          "output_type": "stream",
          "text": [
            "x:\n",
            "[[-7. -6. -5. -4. -3.]\n",
            " [-2. -1.  0.  1.  2.]\n",
            " [ 3.  4.  5.  6.  7.]]\n",
            "\n",
            "layer_norm(x):\n",
            "[[-1.414 -0.707  0.     0.707  1.414]\n",
            " [-1.414 -0.707  0.     0.707  1.414]\n",
            " [-1.414 -0.707  0.     0.707  1.414]]\n",
            "\n",
            "layer_norm.params:\n",
            "(_FilledConstant([1., 1., 1., 1., 1.], dtype=float32), _FilledConstant([0., 0., 0., 0., 0.], dtype=float32))\n"
          ]
        }
      ],
      "source": [
        "prng_key = backend.random.get_prng(0)\n",
        "input_dtype = onp.float32\n",
        "input_shape = (3, 5)\n",
        "x = onp.arange(-7, 8).reshape(*input_shape).astype(input_dtype)\n",
        "\n",
        "layer_norm = tl.LayerNorm()\n",
        "layer_norm.initialize_once(input_shape, input_dtype, prng_key)\n",
        "y = layer_norm(x)\n",
        "\n",
        "template = ('x:\\n{}\\n\\n'\n",
        "            'layer_norm(x):\\n{}\\n\\n'\n",
        "            'layer_norm.params:\\n{}')\n",
        "print(template.format(x, y, layer_norm.params))"
      ]
    },
    {
      "cell_type": "markdown",
      "metadata": {
        "colab_type": "text",
        "id": "ZWZUXEJAofH-"
      },
      "source": [
        "## Layers combine into layers."
      ]
    },
    {
      "cell_type": "markdown",
      "metadata": {
        "colab_type": "text",
        "id": "d47gVdGV1vWw"
      },
      "source": [
        "The Trax library builders encourage users, where possible, to build new layers as combinations of existing layers. The library provides a small set of _combinator_ layers for this: layer objects that make a list of layers behave as a single layer, computing outputs from inputs and updating parameters from gradients.\n",
        "\n"
      ]
    },
    {
      "cell_type": "markdown",
      "metadata": {
        "colab_type": "text",
        "id": "vC1ymG2j0iyp"
      },
      "source": [
        "## Combine with Serial(...)\n",
        "\n",
        "The most common way to combine layers is serially, using the `Serial` class:\n",
        "```\n",
        "class Serial(base.Layer):\n",
        "  \"\"\"Combinator that applies layers serially (by function composition).\n",
        "\n",
        "  A Serial combinator uses stack semantics to manage data for its sublayers.\n",
        "  Each sublayer sees only the inputs it needs and returns only the outputs it\n",
        "  has generated. The sublayers interact via the data stack. For instance, a\n",
        "  sublayer k, following sublayer j, gets called with the data stack in the\n",
        "  state left after layer j has applied. The Serial combinator then:\n",
        "\n",
        "    - takes N_in items off the top of the stack (N_in = k.n_inputs) and calls\n",
        "      layer k, passing those items as arguments; and\n",
        "\n",
        "    - takes layer k's N_out return values (N_out = k.n_outputs) and pushes\n",
        "      them onto the data stack.\n",
        "\n",
        "  ...\n",
        "```\n",
        "As described above, the output of one layer is the input of the next, which amounts to function composition:\n",
        "\n",
        "```\n",
        "#  h(.) = g(f(.))\n",
        "layer_h = Serial(\n",
        "    layer_f,\n",
        "    layer_g,\n",
        ")\n",
        "```"
      ]
    },
    {
      "cell_type": "code",
      "execution_count": 7,
      "metadata": {
        "colab": {
          "height": 170
        },
        "colab_type": "code",
        "executionInfo": {
          "elapsed": 2492,
          "status": "ok",
          "timestamp": 1569980021601,
          "user": {
            "displayName": "Jonni Kanerva",
            "photoUrl": "https://lh3.googleusercontent.com/a-/AAuE7mAWyI3hqIhQiLmO-Yzb2o-qkz0xCUECEG0fptCO=s64",
            "userId": "12646438700820120918"
          },
          "user_tz": 420
        },
        "id": "dW5fpusjvjmh",
        "outputId": "ff8d5d4e-00af-487e-d287-fc77dab366c8"
      },
      "outputs": [
        {
          "name": "stdout",
          "output_type": "stream",
          "text": [
            "x:\n",
            "[[-7. -6. -5. -4. -3.]\n",
            " [-2. -1.  0.  1.  2.]\n",
            " [ 3.  4.  5.  6.  7.]]\n",
            "\n",
            "layer_norm(relu(x)):\n",
            "[[ 0.     0.     0.     0.     0.   ]\n",
            " [-0.75  -0.75  -0.75   0.5    1.75 ]\n",
            " [-1.414 -0.707  0.     0.707  1.414]]\n"
          ]
        }
      ],
      "source": [
        "prng_key = backend.random.get_prng(0)\n",
        "input_dtype = onp.float32\n",
        "input_shape = (3, 5)\n",
        "x = onp.arange(-7, 8).reshape(*input_shape).astype(input_dtype)\n",
        "\n",
        "layer_block = tl.Serial(\n",
        "    tl.Relu(),\n",
        "    tl.LayerNorm(),\n",
        ")\n",
        "layer_block.initialize_once(input_shape, input_dtype, prng_key)\n",
        "y = layer_block(x)\n",
        "\n",
        "template = ('x:\\n{}\\n\\n'\n",
        "            'layer_norm(relu(x)):\\n{}')\n",
        "print(template.format(x, y))"
      ]
    },
    {
      "cell_type": "markdown",
      "metadata": {
        "colab_type": "text",
        "id": "PqVNdoONcTp0"
      },
      "source": [
        "## Combine with Parallel(...)\n",
        "\n",
        "\u003c... and need to introduce Dup(...) ...\u003e"
      ]
    },
    {
      "cell_type": "code",
      "execution_count": 8,
      "metadata": {
        "colab": {
          "height": 255
        },
        "colab_type": "code",
        "executionInfo": {
          "elapsed": 2050,
          "status": "ok",
          "timestamp": 1569980023681,
          "user": {
            "displayName": "Jonni Kanerva",
            "photoUrl": "https://lh3.googleusercontent.com/a-/AAuE7mAWyI3hqIhQiLmO-Yzb2o-qkz0xCUECEG0fptCO=s64",
            "userId": "12646438700820120918"
          },
          "user_tz": 420
        },
        "id": "teOhSJ8A8Es3",
        "outputId": "6759189c-2ef7-4530-c9ee-88b0571208c5"
      },
      "outputs": [
        {
          "name": "stdout",
          "output_type": "stream",
          "text": [
            "x:\n",
            "[[-7. -6. -5. -4. -3.]\n",
            " [-2. -1.  0.  1.  2.]\n",
            " [ 3.  4.  5.  6.  7.]]\n",
            "\n",
            "relu(x):\n",
            "[[0. 0. 0. 0. 0.]\n",
            " [0. 0. 0. 1. 2.]\n",
            " [3. 4. 5. 6. 7.]]\n",
            "\n",
            "layer_norm(x):\n",
            "[[-1.414 -0.707  0.     0.707  1.414]\n",
            " [-1.414 -0.707  0.     0.707  1.414]\n",
            " [-1.414 -0.707  0.     0.707  1.414]]\n"
          ]
        }
      ],
      "source": [
        "prng_key = backend.random.get_prng(0)\n",
        "input_dtype = onp.float32\n",
        "input_shape = (3, 5)\n",
        "x = onp.arange(-7, 8).reshape(*input_shape).astype(input_dtype)\n",
        "\n",
        "layer_block = tl.Serial(\n",
        "    tl.Dup(),\n",
        "    tl.Parallel(tl.Relu(), tl.LayerNorm()),\n",
        ")\n",
        "layer_block.initialize_once(input_shape, input_dtype, prng_key)\n",
        "y = layer_block(x)\n",
        "(y0, y1) = y  # two outputs from layer\n",
        "\n",
        "template = ('x:\\n{}\\n\\n'\n",
        "            'relu(x):\\n{}\\n\\n'\n",
        "            'layer_norm(x):\\n{}')\n",
        "print(template.format(x, y0, y1))"
      ]
    },
    {
      "cell_type": "code",
      "execution_count": 9,
      "metadata": {
        "colab": {
          "height": 170
        },
        "colab_type": "code",
        "executionInfo": {
          "elapsed": 2912,
          "status": "ok",
          "timestamp": 1569980026618,
          "user": {
            "displayName": "Jonni Kanerva",
            "photoUrl": "https://lh3.googleusercontent.com/a-/AAuE7mAWyI3hqIhQiLmO-Yzb2o-qkz0xCUECEG0fptCO=s64",
            "userId": "12646438700820120918"
          },
          "user_tz": 420
        },
        "id": "2EIewVHC9QQZ",
        "outputId": "0194d386-4e06-4bd3-d2a1-24f668b268ac"
      },
      "outputs": [
        {
          "name": "stdout",
          "output_type": "stream",
          "text": [
            "x:\n",
            "[[-7. -6. -5. -4. -3.]\n",
            " [-2. -1.  0.  1.  2.]\n",
            " [ 3.  4.  5.  6.  7.]]\n",
            "\n",
            "concatenate(relu(x), layer_norm(x)):\n",
            "[[ 0.     0.     0.     0.     0.    -1.414 -0.707  0.     0.707  1.414]\n",
            " [ 0.     0.     0.     1.     2.    -1.414 -0.707  0.     0.707  1.414]\n",
            " [ 3.     4.     5.     6.     7.    -1.414 -0.707  0.     0.707  1.414]]\n"
          ]
        }
      ],
      "source": [
        "prng_key = backend.random.get_prng(0)\n",
        "input_dtype = onp.float32\n",
        "input_shape = (3, 5)\n",
        "x = onp.arange(-7, 8).reshape(*input_shape).astype(input_dtype)\n",
        "\n",
        "layer_block = tl.Serial(\n",
        "    tl.Dup(),\n",
        "    tl.Parallel(tl.Relu(), tl.LayerNorm()),\n",
        "    tl.Concatenate(),\n",
        ")\n",
        "layer_block.initialize_once(input_shape, input_dtype, prng_key)\n",
        "y = layer_block(x)\n",
        "\n",
        "template = ('x:\\n{}\\n\\n'\n",
        "            'concatenate(relu(x), layer_norm(x)):\\n{}')\n",
        "print(template.format(x, y))"
      ]
    },
    {
      "cell_type": "code",
      "execution_count": 10,
      "metadata": {
        "colab": {
          "height": 442
        },
        "colab_type": "code",
        "executionInfo": {
          "elapsed": 6372,
          "status": "ok",
          "timestamp": 1569980033028,
          "user": {
            "displayName": "Jonni Kanerva",
            "photoUrl": "https://lh3.googleusercontent.com/a-/AAuE7mAWyI3hqIhQiLmO-Yzb2o-qkz0xCUECEG0fptCO=s64",
            "userId": "12646438700820120918"
          },
          "user_tz": 420
        },
        "id": "1byhBplSby2a",
        "outputId": "6d1cc0da-a0a4-4b45-a654-da800634edb9"
      },
      "outputs": [
        {
          "name": "stdout",
          "output_type": "stream",
          "text": [
            "x:\n",
            "[[-7. -6. -5. -4. -3.]\n",
            " [-2. -1.  0.  1.  2.]\n",
            " [ 3.  4.  5.  6.  7.]]\n",
            "\n",
            "dense(dense(x)):\n",
            "[[ 5.83  -6.634  3.101 -3.777  6.508]\n",
            " [ 0.025 -1.503  0.041 -0.626  0.387]\n",
            " [-5.78   3.628 -3.018  2.526 -5.734]]\n",
            "\n",
            "params:\n",
            "[(DeviceArray([[-0.355,  0.284, -0.737,  0.309, -0.613],\n",
            "             [ 0.574, -0.127,  0.149,  0.763, -0.566],\n",
            "             [-0.083, -0.454,  0.19 ,  0.018, -0.399],\n",
            "             [-0.706,  0.454, -0.636,  0.022, -0.084],\n",
            "             [ 0.422, -0.509, -0.415,  0.638, -0.469]], dtype=float32), DeviceArray([-2.072e-07, -1.046e-06,  2.496e-06,  2.705e-07, -1.035e-08],\n",
            "            dtype=float32)), (DeviceArray([[ 0.459, -0.581,  0.693, -0.163,  0.77 ],\n",
            "             [ 0.016,  0.735,  0.619,  0.585,  0.337],\n",
            "             [ 0.617,  0.345, -0.162, -0.039, -0.073],\n",
            "             [-0.122,  0.103,  0.477,  0.499,  0.199],\n",
            "             [-0.01 , -0.713,  0.639,  0.056,  0.678]], dtype=float32), DeviceArray([-1.936e-07, -1.772e-06, -6.521e-07, -1.623e-06, -4.441e-07],\n",
            "            dtype=float32))]\n",
            "\n",
            "state:\n",
            "[(), ()]\n"
          ]
        }
      ],
      "source": [
        "prng_key = backend.random.get_prng(0)\n",
        "input_dtype = onp.float32\n",
        "input_shape = (3, 5)\n",
        "x = onp.arange(-7, 8).reshape(*input_shape).astype(input_dtype)\n",
        "\n",
        "layer_block = tl.Serial(\n",
        "    tl.Dense(5),\n",
        "    tl.Dense(5),\n",
        ")\n",
        "layer_block.initialize_once(input_shape, input_dtype, prng_key)\n",
        "y = layer_block(x)\n",
        "\n",
        "template = ('x:\\n{}\\n\\n'\n",
        "            'dense(dense(x)):\\n{}\\n\\n'\n",
        "            'params:\\n{}\\n\\n'\n",
        "            'state:\\n{}')\n",
        "print(template.format(x, y, layer_block.params, layer_block.state))"
      ]
    },
    {
      "cell_type": "code",
      "execution_count": 11,
      "metadata": {
        "colab": {
          "height": 357
        },
        "colab_type": "code",
        "executionInfo": {
          "elapsed": 1047,
          "status": "ok",
          "timestamp": 1569980034098,
          "user": {
            "displayName": "Jonni Kanerva",
            "photoUrl": "https://lh3.googleusercontent.com/a-/AAuE7mAWyI3hqIhQiLmO-Yzb2o-qkz0xCUECEG0fptCO=s64",
            "userId": "12646438700820120918"
          },
          "user_tz": 420
        },
        "id": "aRKnfN4adLqi",
        "outputId": "568f4974-b9bf-4e5f-b9c4-dc6413068462"
      },
      "outputs": [
        {
          "name": "stdout",
          "output_type": "stream",
          "text": [
            "x:\n",
            "[[-7. -6. -5. -4. -3.]\n",
            " [-2. -1.  0.  1.  2.]\n",
            " [ 3.  4.  5.  6.  7.]]\n",
            "\n",
            "dense(dense(x)):\n",
            "[[ 10.543 -12.855   1.589   8.106  -8.503]\n",
            " [ -0.278  -0.161  -0.644  -0.195   0.103]\n",
            " [-11.099  12.533  -2.877  -8.497   8.709]]\n",
            "\n",
            "params:\n",
            "[(DeviceArray([[-0.355,  0.284, -0.737,  0.309, -0.613],\n",
            "             [ 0.574, -0.127,  0.149,  0.763, -0.566],\n",
            "             [-0.083, -0.454,  0.19 ,  0.018, -0.399],\n",
            "             [-0.706,  0.454, -0.636,  0.022, -0.084],\n",
            "             [ 0.422, -0.509, -0.415,  0.638, -0.469]], dtype=float32), DeviceArray([-2.072e-07, -1.046e-06,  2.496e-06,  2.705e-07, -1.035e-08],\n",
            "            dtype=float32)), ()]\n",
            "\n",
            "state:\n",
            "[(), ()]\n"
          ]
        }
      ],
      "source": [
        "prng_key = backend.random.get_prng(0)\n",
        "input_dtype = onp.float32\n",
        "input_shape = (3, 5)\n",
        "x = onp.arange(-7, 8).reshape(*input_shape).astype(input_dtype)\n",
        "\n",
        "dense = tl.Dense(5)\n",
        "layer_block = tl.Serial(\n",
        "    dense,\n",
        "    dense,\n",
        ")\n",
        "layer_block.initialize_once(input_shape, input_dtype, prng_key)\n",
        "y = layer_block(x)\n",
        "\n",
        "template = ('x:\\n{}\\n\\n'\n",
        "            'dense(dense(x)):\\n{}\\n\\n'\n",
        "            'params:\\n{}\\n\\n'\n",
        "            'state:\\n{}')\n",
        "print(template.format(x, y, layer_block.params, layer_block.state))"
      ]
    },
    {
      "cell_type": "markdown",
      "metadata": {
        "colab_type": "text",
        "id": "rwgiP0tK1H6p"
      },
      "source": [
        "# Data Flows, Data Stack"
      ]
    },
    {
      "cell_type": "markdown",
      "metadata": {
        "colab_type": "text",
        "id": "llAH3cdE1UeU"
      },
      "source": [
        "# Training and Using Models"
      ]
    },
    {
      "cell_type": "markdown",
      "metadata": {
        "colab_type": "text",
        "id": "65ite-671cTT"
      },
      "source": [
        "# Defining Your Own Layer Classes"
      ]
    }
  ],
  "metadata": {
    "colab": {
      "collapsed_sections": [],
      "last_runtime": {
        "build_target": "//learning/deepmind/dm_python:dm_notebook",
        "kind": "private"
      },
      "name": "A Conceptual, Practical Introduction to Trax Layers",
      "provenance": [
        {
          "file_id": "1sF8QbqJ19ZU6oy5z4GUTt4lgUCjqO6kt",
          "timestamp": 1569980697572
        },
        {
          "file_id": "1EH76AWQ_pvT4i8ZXfkv-SCV4MrmllEl5",
          "timestamp": 1563927451951
        }
      ]
    },
    "kernelspec": {
      "display_name": "Python 2",
      "name": "python2"
    }
  },
  "nbformat": 4,
  "nbformat_minor": 0
}
